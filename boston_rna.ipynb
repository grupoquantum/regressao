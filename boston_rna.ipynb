{
 "cells": [
  {
   "cell_type": "markdown",
   "metadata": {},
   "source": [
    "<h3>Previsão Regressiva dos Preços das Casas em Boston (Boston House Prices DataSet/1978)</h3>\n",
    "<p>Descrição das colunas:</p>\n",
    "<ul>\n",
    "    <li><b>CRIM:</b> taxa de criminalidade per capita por distrito/região.</li>\n",
    "    <li><b>ZN:</b> proporção de terrenos residenciais zoneados para lotes acima de 25000 pés quadrados.</li>\n",
    "    <li><b>INDUS:</b> proporção de acres de negócios não varejistas por distrito/região.</li>\n",
    "    <li><b>CHAS:</b> proximidade com o Rio Charles River.</li>\n",
    "    <li><b>NOX:</b> concentração de óxidos nítricos (partes por 10 milhões).</li>\n",
    "    <li><b>RM:</b> número médio de quartos por habitação.</li>\n",
    "    <li><b>AGE:</b> proporção de unidades ocupadas pelos proprietários construídas antes de 1940.</li>\n",
    "    <li><b>DIS:</b> distâncias ponderadas para cinco centros de emprego de Boston.</li>\n",
    "    <li><b>RAD:</b> índice de acessibilidade às rodovias radiais.</li>\n",
    "    <li><b>TAX:</b> taxa de imposto por propriedade.</li>\n",
    "    <li><b>PTRATIO:</b> relação aluno-professor por distrito/região.</li>\n",
    "    <li><b>B:</b> proporção de negros por cidade a cada 1000 habitantes.</li>\n",
    "    <li><b>LSTAT:</b> proporção da população com baixo status financeiro.</li>\n",
    "    <li><b>MEDV:</b> valor médio das casas ocupadas pelos proprietários em $ 1000.</li>\n",
    "</ul>"
   ]
  },
  {
   "cell_type": "markdown",
   "metadata": {},
   "source": [
    "<h4>Exploração dos Dados</h4>"
   ]
  },
  {
   "cell_type": "code",
   "execution_count": 2,
   "metadata": {},
   "outputs": [
    {
     "name": "stdout",
     "output_type": "stream",
     "text": [
      "╒═════════╤══════╤═════════╤════════╤═══════╤═══════╤═══════╤════════╤═══════╤═══════╤═══════════╤════════╤═════════╤════════╕\n",
      "│    CRIM │   ZN │   INDUS │   CHAS │   NOX │    RM │   AGE │    DIS │   RAD │   TAX │   PTRATIO │      B │   LSTAT │   MEDV │\n",
      "╞═════════╪══════╪═════════╪════════╪═══════╪═══════╪═══════╪════════╪═══════╪═══════╪═══════════╪════════╪═════════╪════════╡\n",
      "│ 0.00632 │   18 │    2.31 │      0 │ 0.538 │ 6.575 │  65.2 │ 4.09   │     1 │   296 │      15.3 │ 396.9  │    4.98 │   24   │\n",
      "├─────────┼──────┼─────────┼────────┼───────┼───────┼───────┼────────┼───────┼───────┼───────────┼────────┼─────────┼────────┤\n",
      "│ 0.02731 │    0 │    7.07 │      0 │ 0.469 │ 6.421 │  78.9 │ 4.9671 │     2 │   242 │      17.8 │ 396.9  │    9.14 │   21.6 │\n",
      "├─────────┼──────┼─────────┼────────┼───────┼───────┼───────┼────────┼───────┼───────┼───────────┼────────┼─────────┼────────┤\n",
      "│ 0.02729 │    0 │    7.07 │      0 │ 0.469 │ 7.185 │  61.1 │ 4.9671 │     2 │   242 │      17.8 │ 392.83 │    4.03 │   34.7 │\n",
      "├─────────┼──────┼─────────┼────────┼───────┼───────┼───────┼────────┼───────┼───────┼───────────┼────────┼─────────┼────────┤\n",
      "│ 0.03237 │    0 │    2.18 │      0 │ 0.458 │ 6.998 │  45.8 │ 6.0622 │     3 │   222 │      18.7 │ 394.63 │    2.94 │   33.4 │\n",
      "├─────────┼──────┼─────────┼────────┼───────┼───────┼───────┼────────┼───────┼───────┼───────────┼────────┼─────────┼────────┤\n",
      "│ 0.06905 │    0 │    2.18 │      0 │ 0.458 │ 7.147 │  54.2 │ 6.0622 │     3 │   222 │      18.7 │ 396.9  │    5.33 │   36.2 │\n",
      "╘═════════╧══════╧═════════╧════════╧═══════╧═══════╧═══════╧════════╧═══════╧═══════╧═══════════╧════════╧═════════╧════════╛\n"
     ]
    },
    {
     "data": {
      "text/plain": [
       "True"
      ]
     },
     "execution_count": 2,
     "metadata": {},
     "output_type": "execute_result"
    }
   ],
   "source": [
    "url_path = 'boston.csv'\n",
    "from Neuraline.Utilities.data import DataTable, DataExploration\n",
    "data_table, data_exploration = DataTable(), DataExploration()\n",
    "data_table.visualization_csv_inline(url_path=url_path, limit=5)"
   ]
  },
  {
   "cell_type": "markdown",
   "metadata": {},
   "source": [
    "<h4>Separação dos Dados em Treinamento e Teste com o Treinamento Executado na Sequência</h4>"
   ]
  },
  {
   "cell_type": "code",
   "execution_count": 9,
   "metadata": {},
   "outputs": [
    {
     "name": "stdout",
     "output_type": "stream",
     "text": [
      "epoch...............................: 1 - loss: 0.80000000\n",
      "epoch...............................: 2 - loss: 0.60000000\n",
      "epoch...............................: 3 - loss: 0.40000000\n",
      "epoch...............................: 4 - loss: 0.20000000\n",
      "epoch...............................: 5 - loss: 0.00000000\n"
     ]
    },
    {
     "data": {
      "text/plain": [
       "True"
      ]
     },
     "execution_count": 9,
     "metadata": {},
     "output_type": "execute_result"
    }
   ],
   "source": [
    "list_inputs, list_outputs = ['CRIM', 'ZN', 'INDUS', 'CHAS', 'NOX', 'RM', 'AGE', 'DIS', 'RAD', 'TAX', 'PTRATIO', 'B', 'LSTAT'], ['MEDV']\n",
    "inputs_train, outputs_train, inputs_test, outputs_test = data_exploration.dataSeparationCSV(url_path=url_path, list_inputs=list_inputs, list_outputs=list_outputs, training_percentage=.8, separator=',')\n",
    "from Neuraline.ArtificialIntelligence.DeepLearning.neural_network import NeuralNetwork\n",
    "neural_network = NeuralNetwork()\n",
    "neural_network.fit(inputs=inputs_train, outputs=outputs_train, epochs=5, activation_function='nonlinear', show_error=True)"
   ]
  },
  {
   "cell_type": "markdown",
   "metadata": {},
   "source": [
    "<h4>Teste do Modelo</h4>"
   ]
  },
  {
   "cell_type": "code",
   "execution_count": 10,
   "metadata": {},
   "outputs": [
    {
     "data": {
      "text/plain": [
       "{'assertiveness': 0.80749579883069, 'error': 0.19250420116931}"
      ]
     },
     "execution_count": 10,
     "metadata": {},
     "output_type": "execute_result"
    }
   ],
   "source": [
    "result_test = neural_network.test(inputs=inputs_test, outputs=outputs_test)\n",
    "result_test"
   ]
  },
  {
   "cell_type": "markdown",
   "metadata": {},
   "source": [
    "<h4>Visualização Gráfica do Teste</h4>"
   ]
  },
  {
   "cell_type": "code",
   "execution_count": 11,
   "metadata": {},
   "outputs": [
    {
     "data": {
      "image/png": "[encoded data removed]",
      "text/plain": [
       "<Figure size 576x288 with 1 Axes>"
      ]
     },
     "metadata": {
      "needs_background": "light"
     },
     "output_type": "display_data"
    }
   ],
   "source": [
    "from Neuraline.Utilities.chart import Chart\n",
    "chart = Chart()\n",
    "x, y = list(result_test.keys()), [y*100 for y in list(result_test.values())]\n",
    "chart.plotBAR(x=x, y=y, x_label='Acertos VS Erros', y_label='Percentual %', title='Teste de Assertividade', bar_values=True)"
   ]
  }
 ],
 "metadata": {
  "kernelspec": {
   "display_name": "Python 3.10.4 64-bit",
   "language": "python",
   "name": "python3"
  },
  "language_info": {
   "codemirror_mode": {
    "name": "ipython",
    "version": 3
   },
   "file_extension": ".py",
   "mimetype": "text/x-python",
   "name": "python",
   "nbconvert_exporter": "python",
   "pygments_lexer": "ipython3",
   "version": "3.10.4"
  },
  "orig_nbformat": 4,
  "vscode": {
   "interpreter": {
    "hash": "916dbcbb3f70747c44a77c7bcd40155683ae19c65e1c03b4aa3499c5328201f1"
   }
  }
 },
 "nbformat": 4,
 "nbformat_minor": 2
}
