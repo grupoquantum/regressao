{
 "cells": [
  {
   "cell_type": "markdown",
   "metadata": {},
   "source": [
    "<h3>Regressão</h3>\n",
    "<p>Enquanto a classificação prevê somente respostas contidas nos dados de treinamento a <b>Regressão</b> consegue prever também respostas inéditas.</p>"
   ]
  },
  {
   "cell_type": "markdown",
   "metadata": {},
   "source": [
    "<p>Regressão com uma entrada e uma saída.</p>"
   ]
  },
  {
   "cell_type": "code",
   "execution_count": 77,
   "metadata": {},
   "outputs": [
    {
     "name": "stdout",
     "output_type": "stream",
     "text": [
      "[[20], [30], [40], [50], [60], [70], [80], [90], [100], [110]]\n"
     ]
    }
   ],
   "source": [
    "from Neuraline.ArtificialIntelligence.MachineLearning.SupervisedLearning.regression import Regression\n",
    "regression = Regression()\n",
    "\n",
    "inputs = [[1], [2], [3], [4], [5], [6], [7], [8], [9], [10]]\n",
    "outputs = [[10], [20], [30], [40], [50], [60], [70], [80], [90], [100]]\n",
    "regression.fit(inputs=inputs, outputs=outputs)\n",
    "new_inputs = [[2], [3], [4], [5], [6], [7], [8], [9], [10], [11]]\n",
    "new_outputs = regression.predict(inputs=new_inputs)\n",
    "print(new_outputs)"
   ]
  },
  {
   "cell_type": "markdown",
   "metadata": {},
   "source": [
    "<p>Regressão com uma entrada e múltiplas saídas (duas ou mais).</p>"
   ]
  },
  {
   "cell_type": "code",
   "execution_count": 78,
   "metadata": {},
   "outputs": [
    {
     "name": "stdout",
     "output_type": "stream",
     "text": [
      "[[2, 20], [3, 30], [4, 40], [5, 50], [6, 60], [7, 70], [8, 80], [9, 90], [10, 100], [11, 110]]\n"
     ]
    }
   ],
   "source": [
    "from Neuraline.ArtificialIntelligence.MachineLearning.SupervisedLearning.regression import Regression\n",
    "regression = Regression()\n",
    "\n",
    "inputs = [[1], [2], [3], [4], [5], [6], [7], [8], [9], [10]]\n",
    "outputs = [[1, 10], [2, 20], [3, 30], [4, 40], [5, 50], [6, 60], [7, 70], [8, 80], [9, 90], [10, 100]]\n",
    "regression.fit(inputs=inputs, outputs=outputs)\n",
    "new_inputs = [[2], [3], [4], [5], [6], [7], [8], [9], [10], [11]]\n",
    "new_outputs = regression.predict(inputs=new_inputs)\n",
    "print(new_outputs)"
   ]
  },
  {
   "cell_type": "markdown",
   "metadata": {},
   "source": [
    "<p>Regressão com múltiplas entradas (duas ou mais) e uma saída.</p>"
   ]
  },
  {
   "cell_type": "code",
   "execution_count": 79,
   "metadata": {},
   "outputs": [
    {
     "name": "stdout",
     "output_type": "stream",
     "text": [
      "[[5], [9], [13], [17], [21], [25], [29], [33], [37], [41]]\n"
     ]
    }
   ],
   "source": [
    "from Neuraline.ArtificialIntelligence.MachineLearning.SupervisedLearning.regression import Regression\n",
    "regression = Regression()\n",
    "\n",
    "inputs = [[1, 2], [3, 4], [5, 6], [7, 8], [9, 10], [11, 12], [13, 14], [15, 16], [17, 18], [19, 20]]\n",
    "outputs = [[3], [7], [11], [15], [19], [23], [27], [31], [35], [39]]\n",
    "regression.fit(inputs=inputs, outputs=outputs)\n",
    "new_inputs = [[2, 3], [4, 5], [6, 7], [8, 9], [10, 11], [12, 13], [14, 15], [16, 17], [18, 19], [20, 21]]\n",
    "new_outputs = regression.predict(inputs=new_inputs)\n",
    "print(new_outputs)"
   ]
  },
  {
   "cell_type": "markdown",
   "metadata": {},
   "source": [
    "<p>Regressão com múltiplas entradas (duas ou mais) e múltiplas saídas (duas ou mais).</p>"
   ]
  },
  {
   "cell_type": "code",
   "execution_count": 80,
   "metadata": {},
   "outputs": [
    {
     "name": "stdout",
     "output_type": "stream",
     "text": [
      "[[5, 50], [9, 90], [13, 130], [17, 170], [21, 210], [25, 250], [29, 290], [33, 330], [37, 370], [41, 410]]\n"
     ]
    }
   ],
   "source": [
    "from Neuraline.ArtificialIntelligence.MachineLearning.SupervisedLearning.regression import Regression\n",
    "regression = Regression()\n",
    "\n",
    "inputs = [[1, 2], [3, 4], [5, 6], [7, 8], [9, 10], [11, 12], [13, 14], [15, 16], [17, 18], [19, 20]]\n",
    "outputs = [[3, 30], [7, 70], [11, 110], [15, 150], [19, 190], [23, 230], [27, 270], [31, 310], [35, 350], [39, 390]]\n",
    "regression.fit(inputs=inputs, outputs=outputs)\n",
    "new_inputs = [[2, 3], [4, 5], [6, 7], [8, 9], [10, 11], [12, 13], [14, 15], [16, 17], [18, 19], [20, 21]]\n",
    "new_outputs = regression.predict(inputs=new_inputs)\n",
    "print(new_outputs)"
   ]
  },
  {
   "cell_type": "markdown",
   "metadata": {},
   "source": [
    "<p>O parâmetro de nome <b>regression_type</b> recebe uma string com o nome referente ao tipo de regressão que deverá ser aplicada ao cálculo.</p>"
   ]
  },
  {
   "cell_type": "markdown",
   "metadata": {},
   "source": [
    "<p><b>Regressão Linear:</b> retorna resultados em que a diferença entre o elemento atual e o anterior é sempre a mesma para todos os elementos.</p>"
   ]
  },
  {
   "cell_type": "code",
   "execution_count": 81,
   "metadata": {},
   "outputs": [
    {
     "name": "stdout",
     "output_type": "stream",
     "text": [
      "[[5, 50], [9, 90], [13, 130], [17, 170], [21, 210], [25, 250], [29, 290], [33, 330], [37, 370], [41, 410]]\n"
     ]
    }
   ],
   "source": [
    "from Neuraline.ArtificialIntelligence.MachineLearning.SupervisedLearning.regression import Regression\n",
    "regression = Regression()\n",
    "\n",
    "inputs = [[1, 2], [3, 4], [5, 6], [7, 8], [9, 10], [11, 12], [13, 14], [15, 16], [17, 18], [19, 20]]\n",
    "outputs = [[3, 30], [7, 70], [11, 110], [15, 150], [19, 190], [23, 230], [27, 270], [31, 310], [35, 350], [39, 390]]\n",
    "regression.fit(inputs=inputs, outputs=outputs, regression_type='linear')\n",
    "new_inputs = [[2, 3], [4, 5], [6, 7], [8, 9], [10, 11], [12, 13], [14, 15], [16, 17], [18, 19], [20, 21]]\n",
    "new_outputs = regression.predict(inputs=new_inputs)\n",
    "print(new_outputs)"
   ]
  },
  {
   "cell_type": "markdown",
   "metadata": {},
   "source": [
    "<p><b>Mínimos Quadrados/Least Squares:</b> é uma outra alternativa de cálculo para a regressão linear que usa a média dos quadrados com valores mínimos para calcular o resultado.</p>"
   ]
  },
  {
   "cell_type": "code",
   "execution_count": 82,
   "metadata": {},
   "outputs": [
    {
     "name": "stdout",
     "output_type": "stream",
     "text": [
      "[[5, 50], [9, 90], [13, 130], [17, 170], [21, 210], [25, 250], [29, 290], [33, 330], [37, 370], [41, 410]]\n"
     ]
    }
   ],
   "source": [
    "from Neuraline.ArtificialIntelligence.MachineLearning.SupervisedLearning.regression import Regression\n",
    "regression = Regression()\n",
    "\n",
    "inputs = [[1, 2], [3, 4], [5, 6], [7, 8], [9, 10], [11, 12], [13, 14], [15, 16], [17, 18], [19, 20]]\n",
    "outputs = [[3, 30], [7, 70], [11, 110], [15, 150], [19, 190], [23, 230], [27, 270], [31, 310], [35, 350], [39, 390]]\n",
    "regression.fit(inputs=inputs, outputs=outputs, regression_type='least_squares')\n",
    "new_inputs = [[2, 3], [4, 5], [6, 7], [8, 9], [10, 11], [12, 13], [14, 15], [16, 17], [18, 19], [20, 21]]\n",
    "new_outputs = regression.predict(inputs=new_inputs)\n",
    "print(new_outputs)"
   ]
  },
  {
   "cell_type": "markdown",
   "metadata": {},
   "source": [
    "<p><b>Regressão Não Linear:</b> retorna resultados em que a diferença entre o elemento atual e o anterior poderá ser a mesma ou <u>diferente</u> para alguns ou todos os elementos.</p>\n",
    "<p><b>only_integers:</b> se definido como True irá fazer com que a regressão retorne apenas números inteiros (opcional).</p>\n",
    "<p><b>nonlinear:</b> se definido como True habilitará o cálculo de <u>regressão não linear</u>.</p>"
   ]
  },
  {
   "cell_type": "code",
   "execution_count": 85,
   "metadata": {},
   "outputs": [
    {
     "name": "stdout",
     "output_type": "stream",
     "text": [
      "[[3, 30], [8, 71], [11, 110], [16, 151], [19, 190], [24, 231], [27, 270], [32, 311], [35, 350], [40, 391]]\n"
     ]
    }
   ],
   "source": [
    "from Neuraline.ArtificialIntelligence.MachineLearning.SupervisedLearning.regression import Regression\n",
    "regression = Regression()\n",
    "\n",
    "inputs = [[1, 2], [3, 4], [5, 6], [7, 8], [9, 10], [11, 12], [13, 14], [15, 16], [17, 18], [19, 20]]\n",
    "outputs = [[3, 30], [8, 71], [11, 110], [16, 151], [19, 190], [24, 231], [27, 270], [32, 311], [35, 350], [40, 391]]\n",
    "regression.fit(inputs=inputs, outputs=outputs, only_integers=True, nonlinear=True)\n",
    "new_inputs = [[1, 2], [3, 4], [5, 6], [7, 8], [9, 10], [11, 12], [13, 14], [15, 16], [17, 18], [19, 20]]\n",
    "new_outputs = regression.predict(inputs=new_inputs)\n",
    "print(new_outputs)"
   ]
  },
  {
   "cell_type": "markdown",
   "metadata": {},
   "source": [
    "<p><b>Regressão Quantílica:</b> calcula a resposta com base na mediana para tornar as respostas menos sensíveis a outliers (valores discrepantes).</p>\n",
    "<p><u>Observe que o segundo elemento dos dados de treinamento é um outlier.</u></p>"
   ]
  },
  {
   "cell_type": "code",
   "execution_count": 86,
   "metadata": {},
   "outputs": [
    {
     "name": "stdout",
     "output_type": "stream",
     "text": [
      "[[5, 50], [9, 90], [13, 130], [17, 170], [21, 210], [25, 250], [29, 290], [33, 330], [37, 370], [41, 410]]\n"
     ]
    }
   ],
   "source": [
    "from Neuraline.ArtificialIntelligence.MachineLearning.SupervisedLearning.regression import Regression\n",
    "regression = Regression()\n",
    "\n",
    "inputs = [[1, 2], [30, 40], [5, 6], [7, 8], [9, 10], [11, 12], [13, 14], [15, 16], [17, 18], [19, 20]]\n",
    "outputs = [[3, 30], [70, 700], [11, 110], [15, 150], [19, 190], [23, 230], [27, 270], [31, 310], [35, 350], [39, 390]]\n",
    "regression.fit(inputs=inputs, outputs=outputs, regression_type='quantile', only_integers=True)\n",
    "new_inputs = [[2, 3], [4, 5], [6, 7], [8, 9], [10, 11], [12, 13], [14, 15], [16, 17], [18, 19], [20, 21]]\n",
    "new_outputs = regression.predict(inputs=new_inputs)\n",
    "print(new_outputs)"
   ]
  },
  {
   "cell_type": "markdown",
   "metadata": {},
   "source": [
    "<p><b>Regressão Logística:</b> adapta o cálculo de regressão para retornar resultados classificativos.</p>"
   ]
  },
  {
   "cell_type": "code",
   "execution_count": 87,
   "metadata": {},
   "outputs": [
    {
     "name": "stdout",
     "output_type": "stream",
     "text": [
      "[[0], [1], [0], [1], [0], [1], [0], [1], [0], [1]]\n"
     ]
    }
   ],
   "source": [
    "from Neuraline.ArtificialIntelligence.MachineLearning.SupervisedLearning.regression import Regression\n",
    "regression = Regression()\n",
    "\n",
    "inputs = [[1, 1], [10, 10], [2, 2], [20, 20], [3, 3], [30, 30], [4, 4], [40, 40], [5, 5], [50, 50]]\n",
    "outputs = [[0], [1], [0], [1], [0], [1], [0], [1], [0], [1]]\n",
    "regression.fit(inputs=inputs, outputs=outputs, regression_type='logistic')\n",
    "new_inputs = [[2, 3], [20, 30], [4, 5], [40, 50], [6, 7], [60, 70], [8, 9], [80, 90], [9, 9], [90, 90]]\n",
    "new_outputs = regression.predict(inputs=new_inputs)\n",
    "print(new_outputs)"
   ]
  },
  {
   "cell_type": "markdown",
   "metadata": {},
   "source": [
    "<p><b>Regressão Ordinal:</b> assume que os valores estão ordenados sequencialmente com uma relação de dependência entre eles.</p>"
   ]
  },
  {
   "cell_type": "code",
   "execution_count": 88,
   "metadata": {},
   "outputs": [
    {
     "name": "stdout",
     "output_type": "stream",
     "text": [
      "[[4, 5], [6, 7], [8, 9], [10, 11], [12, 13], [14, 15], [16, 17], [18, 19], [20, 21], [22, 23]]\n"
     ]
    }
   ],
   "source": [
    "from Neuraline.ArtificialIntelligence.MachineLearning.SupervisedLearning.regression import Regression\n",
    "regression = Regression()\n",
    "\n",
    "inputs = [[1, 2], [3, 4], [5, 6], [7, 8], [9, 10], [11, 12], [13, 14], [15, 16], [17, 18], [19, 20]]\n",
    "outputs = [[3, 4], [5, 6], [7, 8], [9, 10], [11, 12], [13, 14], [15, 16], [17, 18], [19, 20], [21, 22]]\n",
    "regression.fit(inputs=inputs, outputs=outputs, regression_type='ordinal')\n",
    "new_inputs = [[2, 3], [4, 5], [6, 7], [8, 9], [10, 11], [12, 13], [14, 15], [16, 17], [18, 19], [20, 21]]\n",
    "new_outputs = regression.predict(inputs=new_inputs)\n",
    "print(new_outputs)"
   ]
  },
  {
   "cell_type": "markdown",
   "metadata": {},
   "source": [
    "<p><b>Regressão Logística Ordenada:</b> assume que os valores de resposta estão ordenados sequencialmente representados por números ordinais categóricos.</p>"
   ]
  },
  {
   "cell_type": "code",
   "execution_count": 89,
   "metadata": {},
   "outputs": [
    {
     "name": "stdout",
     "output_type": "stream",
     "text": [
      "[[0], [0], [0], [1], [1], [1], [2], [2], [2], [2]]\n"
     ]
    }
   ],
   "source": [
    "from Neuraline.ArtificialIntelligence.MachineLearning.SupervisedLearning.regression import Regression\n",
    "regression = Regression()\n",
    "\n",
    "inputs = [[1, 2], [3, 4], [5, 6], [10, 20], [30, 40], [50, 60], [100, 200], [300, 400], [500, 600], [700, 800]]\n",
    "outputs = [[0], [0], [0], [1], [1], [1], [2], [2], [2], [2]]\n",
    "regression.fit(inputs=inputs, outputs=outputs, regression_type='ordered_logit')\n",
    "new_inputs = [[2, 3], [4, 5], [6, 7], [20, 30], [40, 50], [60, 70], [200, 300], [400, 500], [600, 700], [800, 900]]\n",
    "new_outputs = regression.predict(inputs=new_inputs)\n",
    "print(new_outputs)"
   ]
  },
  {
   "cell_type": "markdown",
   "metadata": {},
   "source": [
    "<p><b>Regressão Polinomial:</b> é um método de <u>regressão não linear</u> calculada com base em um polinômio de grau <u>n</u>.</p>"
   ]
  },
  {
   "cell_type": "code",
   "execution_count": 90,
   "metadata": {},
   "outputs": [
    {
     "name": "stdout",
     "output_type": "stream",
     "text": [
      "[[3, 30], [8, 71], [11, 110], [16, 151], [19, 190], [24, 231], [27, 270], [32, 311], [35, 350], [40, 391]]\n"
     ]
    }
   ],
   "source": [
    "from Neuraline.ArtificialIntelligence.MachineLearning.SupervisedLearning.regression import Regression\n",
    "regression = Regression()\n",
    "\n",
    "inputs = [[1, 2], [3, 4], [5, 6], [7, 8], [9, 10], [11, 12], [13, 14], [15, 16], [17, 18], [19, 20]]\n",
    "outputs = [[3, 30], [8, 71], [11, 110], [16, 151], [19, 190], [24, 231], [27, 270], [32, 311], [35, 350], [40, 391]]\n",
    "regression.fit(inputs=inputs, outputs=outputs, regression_type='polynomial', only_integers=True)\n",
    "new_inputs = [[1, 2], [3, 4], [5, 6], [7, 8], [9, 10], [11, 12], [13, 14], [15, 16], [17, 18], [19, 20]]\n",
    "new_outputs = regression.predict(inputs=new_inputs)\n",
    "print(new_outputs)"
   ]
  },
  {
   "cell_type": "markdown",
   "metadata": {},
   "source": [
    "<p><b>Regressão Quadrática:</b> é um método de <u>regressão não linear</u> que utiliza uma parábola para prever os resultados.</p>"
   ]
  },
  {
   "cell_type": "code",
   "execution_count": 91,
   "metadata": {},
   "outputs": [
    {
     "name": "stdout",
     "output_type": "stream",
     "text": [
      "[[3, 30], [8, 71], [11, 110], [16, 151], [19, 190], [24, 231], [27, 270], [32, 311], [35, 350], [40, 391]]\n"
     ]
    }
   ],
   "source": [
    "from Neuraline.ArtificialIntelligence.MachineLearning.SupervisedLearning.regression import Regression\n",
    "regression = Regression()\n",
    "\n",
    "inputs = [[1, 2], [3, 4], [5, 6], [7, 8], [9, 10], [11, 12], [13, 14], [15, 16], [17, 18], [19, 20]]\n",
    "outputs = [[3, 30], [8, 71], [11, 110], [16, 151], [19, 190], [24, 231], [27, 270], [32, 311], [35, 350], [40, 391]]\n",
    "regression.fit(inputs=inputs, outputs=outputs, regression_type='quadratic', only_integers=True)\n",
    "new_inputs = [[1, 2], [3, 4], [5, 6], [7, 8], [9, 10], [11, 12], [13, 14], [15, 16], [17, 18], [19, 20]]\n",
    "new_outputs = regression.predict(inputs=new_inputs)\n",
    "print(new_outputs)"
   ]
  },
  {
   "cell_type": "markdown",
   "metadata": {},
   "source": [
    "<p><b>Regressão Cúbica:</b> é um método de <u>regressão não linear</u> calculada com base em um polinômio de grau <u>3</u>.</p>"
   ]
  },
  {
   "cell_type": "code",
   "execution_count": 92,
   "metadata": {},
   "outputs": [
    {
     "name": "stdout",
     "output_type": "stream",
     "text": [
      "[[3, 30], [8, 71], [11, 110], [16, 151], [19, 190], [24, 231], [27, 270], [32, 311], [35, 350], [40, 391]]\n"
     ]
    }
   ],
   "source": [
    "from Neuraline.ArtificialIntelligence.MachineLearning.SupervisedLearning.regression import Regression\n",
    "regression = Regression()\n",
    "\n",
    "inputs = [[1, 2], [3, 4], [5, 6], [7, 8], [9, 10], [11, 12], [13, 14], [15, 16], [17, 18], [19, 20]]\n",
    "outputs = [[3, 30], [8, 71], [11, 110], [16, 151], [19, 190], [24, 231], [27, 270], [32, 311], [35, 350], [40, 391]]\n",
    "regression.fit(inputs=inputs, outputs=outputs, regression_type='cubic', only_integers=True)\n",
    "new_inputs = [[1, 2], [3, 4], [5, 6], [7, 8], [9, 10], [11, 12], [13, 14], [15, 16], [17, 18], [19, 20]]\n",
    "new_outputs = regression.predict(inputs=new_inputs)\n",
    "print(new_outputs)"
   ]
  },
  {
   "cell_type": "markdown",
   "metadata": {},
   "source": [
    "<p><b>Regressão Bayesiana:</b> é um método de <u>regressão linear</u> calculada com base em um modelo de inferência bayesiana.</p>"
   ]
  },
  {
   "cell_type": "code",
   "execution_count": 93,
   "metadata": {},
   "outputs": [
    {
     "name": "stdout",
     "output_type": "stream",
     "text": [
      "[[3, 3], [7, 7], [11, 11], [15, 15], [19, 19], [23, 23], [27, 27], [31, 31], [35, 35], [39, 39]]\n"
     ]
    }
   ],
   "source": [
    "from Neuraline.ArtificialIntelligence.MachineLearning.SupervisedLearning.regression import Regression\n",
    "regression = Regression()\n",
    "\n",
    "inputs = [[1, 2], [3, 4], [5, 6], [7, 8], [9, 10], [11, 12], [13, 14], [15, 16], [17, 18], [19, 20]]\n",
    "outputs = [[3, 3], [7, 7], [11, 11], [15, 15], [19, 19], [23, 23], [27, 27], [31, 31], [35, 35], [39, 39]]\n",
    "regression.fit(inputs=inputs, outputs=outputs, regression_type='bayesian')\n",
    "new_inputs = [[1, 2], [3, 4], [5, 6], [7, 8], [9, 10], [11, 12], [13, 14], [15, 16], [17, 18], [19, 20]]\n",
    "new_outputs = regression.predict(inputs=new_inputs)\n",
    "print(new_outputs)"
   ]
  },
  {
   "cell_type": "markdown",
   "metadata": {},
   "source": [
    "<p><b>Corte Transversal/Cross Section:</b> considera que as variáveis pertencem ao mesmo período de tempo.</p>"
   ]
  },
  {
   "cell_type": "code",
   "execution_count": 94,
   "metadata": {},
   "outputs": [
    {
     "name": "stdout",
     "output_type": "stream",
     "text": [
      "[[5, 6], [7, 8], [9, 10], [11, 12], [13, 14], [15, 16], [17, 18], [19, 20], [21, 22], [23, 24]]\n"
     ]
    }
   ],
   "source": [
    "from Neuraline.ArtificialIntelligence.MachineLearning.SupervisedLearning.regression import Regression\n",
    "regression = Regression()\n",
    "\n",
    "inputs = [[1, 2], [3, 4], [5, 6], [7, 8], [9, 10], [11, 12], [13, 14], [15, 16], [17, 18], [19, 20]]\n",
    "outputs = [[3, 4], [5, 6], [7, 8], [9, 10], [11, 12], [13, 14], [15, 16], [17, 18], [19, 20], [21, 22]]\n",
    "regression.fit(inputs=inputs, outputs=outputs, regression_type='cross_section', only_integers=True)\n",
    "new_inputs = [[3, 4], [5, 6], [7, 8], [9, 10], [11, 12], [13, 14], [15, 16], [17, 18], [19, 20], [21, 22]]\n",
    "new_outputs = regression.predict(inputs=new_inputs)\n",
    "print(new_outputs)"
   ]
  },
  {
   "cell_type": "markdown",
   "metadata": {},
   "source": [
    "<p><b>Regressão de Série Temporal/Dinâmica Autorregressiva:</b> considera que os dados estão dispostos em uma série temporal dependente do histórico de dados passados.</p>"
   ]
  },
  {
   "cell_type": "code",
   "execution_count": 95,
   "metadata": {},
   "outputs": [
    {
     "name": "stdout",
     "output_type": "stream",
     "text": [
      "[[5, 6], [7, 8], [9, 10], [11, 12], [13, 14], [15, 16], [17, 18], [19, 20], [17, 18], [15, 16]]\n"
     ]
    }
   ],
   "source": [
    "from Neuraline.ArtificialIntelligence.MachineLearning.SupervisedLearning.regression import Regression\n",
    "regression = Regression()\n",
    "\n",
    "inputs = [[1, 2], [3, 4], [5, 6], [7, 8], [9, 10], [11, 12], [13, 14], [15, 16], [17, 18], [19, 20]]\n",
    "outputs = [[3, 4], [5, 6], [7, 8], [9, 10], [11, 12], [13, 14], [15, 16], [17, 18], [19, 20], [21, 22]]\n",
    "regression.fit(inputs=inputs, outputs=outputs, regression_type='time_series')\n",
    "new_inputs = [[3, 4], [5, 6], [7, 8], [9, 10], [11, 12], [13, 14], [15, 16], [17, 18], [15, 16], [13, 14]]\n",
    "new_outputs = regression.predict(inputs=new_inputs)\n",
    "print(new_outputs)"
   ]
  },
  {
   "cell_type": "markdown",
   "metadata": {},
   "source": [
    "<p><b>Auto ARIMA:</b> a média móvel integrada autorregressiva automatizada (auto arima) é uma generalização de um modelo de média móvel autorregressiva para a previsão aproximada de séries temporais com seus parâmetros configurados automaticamente.</p>"
   ]
  },
  {
   "cell_type": "code",
   "execution_count": 96,
   "metadata": {},
   "outputs": [
    {
     "name": "stdout",
     "output_type": "stream",
     "text": [
      "[[3, 4], [4, 5], [5, 6], [6, 7], [7, 8], [8, 9], [9, 10], [10, 11], [11, 12], [12, 13]]\n"
     ]
    }
   ],
   "source": [
    "from Neuraline.ArtificialIntelligence.MachineLearning.SupervisedLearning.regression import Regression\n",
    "regression = Regression()\n",
    "\n",
    "inputs = [[1, 2], [2, 3], [3, 4], [4, 5], [5, 6], [6, 7], [7, 8], [8, 9], [9, 10], [10, 11]]\n",
    "outputs = [[2, 3], [3, 4], [4, 5], [5, 6], [6, 7], [7, 8], [8, 9], [9, 10], [10, 11], [11, 12]]\n",
    "regression.fit(inputs=inputs, outputs=outputs, regression_type='auto_arima')\n",
    "new_inputs = [[2, 3], [3, 4], [4, 5], [5, 6], [6, 7], [7, 8], [8, 9], [9, 10], [10, 11], [11, 12]]\n",
    "new_outputs = regression.predict(inputs=new_inputs)\n",
    "print(new_outputs)"
   ]
  },
  {
   "cell_type": "markdown",
   "metadata": {},
   "source": [
    "<p><b>Regressão SARIMA:</b> é uma adaptação do modelo auto arima para períodos com sazonalidade.</p>"
   ]
  },
  {
   "cell_type": "code",
   "execution_count": 97,
   "metadata": {},
   "outputs": [
    {
     "name": "stdout",
     "output_type": "stream",
     "text": [
      "[[3, 4], [4, 5], [5, 6], [6, 7], [7, 8], [8, 9], [9, 10], [10, 11], [11, 12], [12, 13]]\n"
     ]
    }
   ],
   "source": [
    "from Neuraline.ArtificialIntelligence.MachineLearning.SupervisedLearning.regression import Regression\n",
    "regression = Regression()\n",
    "\n",
    "inputs = [[1, 2], [2, 3], [3, 4], [4, 5], [5, 6], [6, 7], [7, 8], [8, 9], [9, 10], [10, 11]]\n",
    "outputs = [[2, 3], [3, 4], [4, 5], [5, 6], [6, 7], [7, 8], [8, 9], [9, 10], [10, 11], [11, 12]]\n",
    "regression.fit(inputs=inputs, outputs=outputs, regression_type='sarima')\n",
    "new_inputs = [[2, 3], [3, 4], [4, 5], [5, 6], [6, 7], [7, 8], [8, 9], [9, 10], [10, 11], [11, 12]]\n",
    "new_outputs = regression.predict(inputs=new_inputs)\n",
    "print(new_outputs)"
   ]
  },
  {
   "cell_type": "markdown",
   "metadata": {},
   "source": [
    "<p><b>Regressão Longitudinal:</b> é um método de <u>regressão linear</u> que assume que <u>as observações não são independentes</u>.</p>"
   ]
  },
  {
   "cell_type": "code",
   "execution_count": 98,
   "metadata": {},
   "outputs": [
    {
     "name": "stdout",
     "output_type": "stream",
     "text": [
      "[[5, 6], [7, 8], [9, 10], [11, 12], [13, 14], [15, 16], [17, 18], [19, 20], [21, 22], [23, 24]]\n"
     ]
    }
   ],
   "source": [
    "from Neuraline.ArtificialIntelligence.MachineLearning.SupervisedLearning.regression import Regression\n",
    "regression = Regression()\n",
    "\n",
    "inputs = [[1, 2], [3, 4], [5, 6], [7, 8], [9, 10], [11, 12], [13, 14], [15, 16], [17, 18], [19, 20]]\n",
    "outputs = [[3, 4], [5, 6], [7, 8], [9, 10], [11, 12], [13, 14], [15, 16], [17, 18], [19, 20], [21, 22]]\n",
    "regression.fit(inputs=inputs, outputs=outputs, regression_type='longitudinal')\n",
    "new_inputs = [[3, 4], [5, 6], [7, 8], [9, 10], [11, 12], [13, 14], [15, 16], [17, 18], [19, 20], [21, 22]]\n",
    "new_outputs = regression.predict(inputs=new_inputs)\n",
    "print(new_outputs)"
   ]
  },
  {
   "cell_type": "markdown",
   "metadata": {},
   "source": [
    "<p><b>Lasso/Least absolute shrinkage and selection operator:</b> aplica um cálculo de suavização/regularização nos dados antes do método regressivo para tornar os resultados menos sensíveis a outliers.</p>\n",
    "<p><u>Observe que o segundo elemento dos dados de treinamento é um outlier.</u></p>"
   ]
  },
  {
   "cell_type": "code",
   "execution_count": 101,
   "metadata": {},
   "outputs": [
    {
     "name": "stdout",
     "output_type": "stream",
     "text": [
      "[[5, 50], [9, 90], [13, 130], [17, 170], [21, 210], [25, 250], [29, 290], [33, 330], [37, 370], [41, 410]]\n"
     ]
    }
   ],
   "source": [
    "from Neuraline.ArtificialIntelligence.MachineLearning.SupervisedLearning.regression import Regression\n",
    "regression = Regression()\n",
    "\n",
    "inputs = [[1, 2], [30, 40], [5, 6], [7, 8], [9, 10], [11, 12], [13, 14], [15, 16], [17, 18], [19, 20]]\n",
    "outputs = [[3, 30], [70, 700], [11, 110], [15, 150], [19, 190], [23, 230], [27, 270], [31, 310], [35, 350], [39, 390]]\n",
    "regression.fit(inputs=inputs, outputs=outputs, regression_type='lasso', only_integers=True)\n",
    "new_inputs = [[2, 3], [4, 5], [6, 7], [8, 9], [10, 11], [12, 13], [14, 15], [16, 17], [18, 19], [20, 21]]\n",
    "new_outputs = regression.predict(inputs=new_inputs)\n",
    "print(new_outputs)"
   ]
  },
  {
   "cell_type": "markdown",
   "metadata": {},
   "source": [
    "<p><b>Regressão Ridge/Regressão de Cume:</b> assume que as variáveis estão altamente correlacionadas.</p>"
   ]
  },
  {
   "cell_type": "code",
   "execution_count": 102,
   "metadata": {},
   "outputs": [
    {
     "name": "stdout",
     "output_type": "stream",
     "text": [
      "[[5, 6], [7, 8], [9, 10], [11, 12], [13, 14], [15, 16], [17, 18], [19, 20], [21, 22], [23, 24]]\n"
     ]
    }
   ],
   "source": [
    "from Neuraline.ArtificialIntelligence.MachineLearning.SupervisedLearning.regression import Regression\n",
    "regression = Regression()\n",
    "\n",
    "inputs = [[1, 2], [3, 4], [5, 6], [7, 8], [9, 10], [11, 12], [13, 14], [15, 16], [17, 18], [19, 20]]\n",
    "outputs = [[3, 4], [5, 6], [7, 8], [9, 10], [11, 12], [13, 14], [15, 16], [17, 18], [19, 20], [21, 22]]\n",
    "regression.fit(inputs=inputs, outputs=outputs, regression_type='ridge')\n",
    "new_inputs = [[3, 4], [5, 6], [7, 8], [9, 10], [11, 12], [13, 14], [15, 16], [17, 18], [19, 20], [21, 22]]\n",
    "new_outputs = regression.predict(inputs=new_inputs)\n",
    "print(new_outputs)"
   ]
  },
  {
   "cell_type": "markdown",
   "metadata": {},
   "source": [
    "<p><b>Rede Elástica/Elastic Net:</b> é um método que combina as regressões de lasso e cume/ridge com a tentativa de retornar resultados mais precisos do que ambas.</p>"
   ]
  },
  {
   "cell_type": "code",
   "execution_count": 103,
   "metadata": {},
   "outputs": [
    {
     "name": "stdout",
     "output_type": "stream",
     "text": [
      "[[5, 6], [7, 8], [9, 10], [11, 12], [13, 14], [15, 16], [17, 18], [19, 20], [21, 22], [23, 24]]\n"
     ]
    }
   ],
   "source": [
    "from Neuraline.ArtificialIntelligence.MachineLearning.SupervisedLearning.regression import Regression\n",
    "regression = Regression()\n",
    "\n",
    "inputs = [[1, 2], [3, 4], [5, 6], [7, 8], [9, 10], [11, 12], [13, 14], [15, 16], [17, 18], [19, 20]]\n",
    "outputs = [[3, 4], [5, 6], [7, 8], [9, 10], [11, 12], [13, 14], [15, 16], [17, 18], [19, 20], [21, 22]]\n",
    "regression.fit(inputs=inputs, outputs=outputs, regression_type='elastic_net')\n",
    "new_inputs = [[3, 4], [5, 6], [7, 8], [9, 10], [11, 12], [13, 14], [15, 16], [17, 18], [19, 20], [21, 22]]\n",
    "new_outputs = regression.predict(inputs=new_inputs)\n",
    "print(new_outputs)"
   ]
  },
  {
   "cell_type": "markdown",
   "metadata": {},
   "source": [
    "<p><b>Regressão PCR/Regressão de Componentes Principais:</b> seleciona apenas os valores principais dos elementos de entrada e saída na aplicação do cálculo regressivo.</p>"
   ]
  },
  {
   "cell_type": "code",
   "execution_count": 104,
   "metadata": {},
   "outputs": [
    {
     "name": "stdout",
     "output_type": "stream",
     "text": [
      "[[3, 3], [7, 7], [11, 11], [15, 15], [19, 19], [23, 23], [27, 27], [31, 31], [35, 35], [39, 39]]\n"
     ]
    }
   ],
   "source": [
    "from Neuraline.ArtificialIntelligence.MachineLearning.SupervisedLearning.regression import Regression\n",
    "regression = Regression()\n",
    "\n",
    "inputs = [[1, 2], [3, 4], [5, 6], [7, 8], [9, 10], [11, 12], [13, 14], [15, 16], [17, 18], [19, 20]]\n",
    "outputs = [[3, 3], [7, 7], [11, 11], [15, 15], [19, 19], [23, 23], [27, 27], [31, 31], [35, 35], [39, 39]]\n",
    "regression.fit(inputs=inputs, outputs=outputs, regression_type='pcr')\n",
    "new_inputs = [[1, 2], [3, 4], [5, 6], [7, 8], [9, 10], [11, 12], [13, 14], [15, 16], [17, 18], [19, 20]]\n",
    "new_outputs = regression.predict(inputs=new_inputs)\n",
    "print(new_outputs)"
   ]
  },
  {
   "cell_type": "markdown",
   "metadata": {},
   "source": [
    "<p><b>Regressão PLS/Regressão por Mínimos Quadrados Parciais:</b> projeta os dados em um novo espaço e aplica o cálculo de regressão dos mínimos quadrados.</p>"
   ]
  },
  {
   "cell_type": "code",
   "execution_count": 105,
   "metadata": {},
   "outputs": [
    {
     "name": "stdout",
     "output_type": "stream",
     "text": [
      "[[5, 50], [9, 90], [13, 130], [17, 170], [21, 210], [25, 250], [29, 290], [33, 330], [37, 370], [41, 410]]\n"
     ]
    }
   ],
   "source": [
    "from Neuraline.ArtificialIntelligence.MachineLearning.SupervisedLearning.regression import Regression\n",
    "regression = Regression()\n",
    "\n",
    "inputs = [[1, 2], [3, 4], [5, 6], [7, 8], [9, 10], [11, 12], [13, 14], [15, 16], [17, 18], [19, 20]]\n",
    "outputs = [[3, 30], [7, 70], [11, 110], [15, 150], [19, 190], [23, 230], [27, 270], [31, 310], [35, 350], [39, 390]]\n",
    "regression.fit(inputs=inputs, outputs=outputs, regression_type='pls')\n",
    "new_inputs = [[2, 3], [4, 5], [6, 7], [8, 9], [10, 11], [12, 13], [14, 15], [16, 17], [18, 19], [20, 21]]\n",
    "new_outputs = regression.predict(inputs=new_inputs)\n",
    "print(new_outputs)"
   ]
  },
  {
   "cell_type": "markdown",
   "metadata": {},
   "source": [
    "<p><b>Poisson:</b> assume que as respostas serão dados de contagem com inteiros maiores ou iguais a zero.</p>"
   ]
  },
  {
   "cell_type": "code",
   "execution_count": 106,
   "metadata": {},
   "outputs": [
    {
     "name": "stdout",
     "output_type": "stream",
     "text": [
      "[[0], [0], [3], [7], [11], [15], [19], [23], [27], [31]]\n"
     ]
    }
   ],
   "source": [
    "from Neuraline.ArtificialIntelligence.MachineLearning.SupervisedLearning.regression import Regression\n",
    "regression = Regression()\n",
    "\n",
    "inputs = [[1, 2], [3, 4], [5, 6], [7, 8], [9, 10], [11, 12], [13, 14], [15, 16], [17, 18], [19, 20]]\n",
    "outputs = [[3], [7], [11], [15], [19], [23], [27], [31], [35], [39]]\n",
    "regression.fit(inputs=inputs, outputs=outputs, regression_type='poisson')\n",
    "new_inputs = [[-1, -1], [0, 0], [1, 2], [3, 4], [5, 6], [7, 8], [9, 10], [11, 12], [13, 14], [15, 16]]\n",
    "new_outputs = regression.predict(inputs=new_inputs)\n",
    "print(new_outputs)"
   ]
  },
  {
   "cell_type": "markdown",
   "metadata": {},
   "source": [
    "<p><b>Regressão Binomial Negativa:</b> assume que as respostas serão dados de contagem superdispersos com alta variabilidade.</p>"
   ]
  },
  {
   "cell_type": "code",
   "execution_count": 107,
   "metadata": {},
   "outputs": [
    {
     "name": "stdout",
     "output_type": "stream",
     "text": [
      "[[0], [0], [30], [70], [110], [150], [190], [230], [270], [310]]\n"
     ]
    }
   ],
   "source": [
    "from Neuraline.ArtificialIntelligence.MachineLearning.SupervisedLearning.regression import Regression\n",
    "regression = Regression()\n",
    "\n",
    "inputs = [[10, 20], [30, 40], [50, 60], [70, 80], [90, 100], [110, 120], [130, 140], [150, 160], [170, 180], [190, 200]]\n",
    "outputs = [[30], [70], [110], [150], [190], [230], [270], [310], [350], [390]]\n",
    "regression.fit(inputs=inputs, outputs=outputs, regression_type='negative_binomial')\n",
    "new_inputs = [[-10, -10], [0, 0], [10, 20], [30, 40], [50, 60], [70, 80], [90, 100], [110, 120], [130, 140], [150, 160]]\n",
    "new_outputs = regression.predict(inputs=new_inputs)\n",
    "print(new_outputs)"
   ]
  },
  {
   "cell_type": "markdown",
   "metadata": {},
   "source": [
    "<p><b>Quase Poisson/Quasi Poisson:</b> é semelhante a poisson porém aplica um cálculo onde a variância é uma função linear da média.</p>"
   ]
  },
  {
   "cell_type": "code",
   "execution_count": 108,
   "metadata": {},
   "outputs": [
    {
     "name": "stdout",
     "output_type": "stream",
     "text": [
      "[[0], [1], [3], [5], [7], [9], [11], [13], [15], [17]]\n"
     ]
    }
   ],
   "source": [
    "from Neuraline.ArtificialIntelligence.MachineLearning.SupervisedLearning.regression import Regression\n",
    "regression = Regression()\n",
    "\n",
    "inputs = [[1, 2], [3, 4], [5, 6], [7, 8], [9, 10], [11, 12], [13, 14], [15, 16], [17, 18], [19, 20]]\n",
    "outputs = [[3], [7], [11], [15], [19], [23], [27], [31], [35], [39]]\n",
    "regression.fit(inputs=inputs, outputs=outputs, regression_type='quasi_poisson')\n",
    "new_inputs = [[-1, 0], [0, 1], [1, 2], [2, 3], [3, 4], [4, 5], [5, 6], [6, 7], [7, 8], [8, 9]]\n",
    "new_outputs = regression.predict(inputs=new_inputs)\n",
    "print(new_outputs)"
   ]
  },
  {
   "cell_type": "markdown",
   "metadata": {},
   "source": [
    "<p><b>COX/Regressão de Riscos Proporcionais:</b> é um modelo regressivo para análise de sobrevivência que relaciona o tempo gasto antes que um determinado evento ocorra com o resultado deste evento.</p>"
   ]
  },
  {
   "cell_type": "code",
   "execution_count": 109,
   "metadata": {},
   "outputs": [
    {
     "name": "stdout",
     "output_type": "stream",
     "text": [
      "[0.9511904761904761, 0.945906432748538, 0.9393382352941176, 0.930952380952381, 0.9198717948717949, 0.9045454545454545, 0.8819444444444444, 0.8452380952380953, 0.775, 0.5833333333333334]\n"
     ]
    }
   ],
   "source": [
    "from Neuraline.ArtificialIntelligence.MachineLearning.SupervisedLearning.regression import Regression\n",
    "regression = Regression()\n",
    "\n",
    "inputs = [[1, 2], [3, 4], [5, 6], [7, 8], [9, 10], [11, 12], [13, 14], [15, 16], [17, 18], [19, 20]]\n",
    "outputs = [[10], [9], [8], [7], [6], [5], [4], [3], [2], [1]]\n",
    "regression.fit(inputs=inputs, outputs=outputs, regression_type='cox')\n",
    "new_inputs = [[2, 3], [4, 5], [6, 7], [8, 9], [10, 11], [12, 13], [14, 15], [16, 17], [18, 19], [20, 21]]\n",
    "new_outputs = regression.predict(inputs=new_inputs)\n",
    "print(new_outputs)"
   ]
  },
  {
   "cell_type": "markdown",
   "metadata": {},
   "source": [
    "<p><b>Regressão de Risco Relativo:</b> retorna a probabilidade do risco de um determinado evento binário ocorrer assumindo que as respostas estarão dispostas sequencialmente.</p>"
   ]
  },
  {
   "cell_type": "code",
   "execution_count": 110,
   "metadata": {},
   "outputs": [
    {
     "name": "stdout",
     "output_type": "stream",
     "text": [
      "[0.0001, 0.0001, 0.0001, 0.15476190476190477, 0.26785714285714285, 0.99999999, 0.99999999, 0.99999999, 0.8452380952380952, 0.7321428571428572]\n"
     ]
    }
   ],
   "source": [
    "from Neuraline.ArtificialIntelligence.MachineLearning.SupervisedLearning.regression import Regression\n",
    "regression = Regression()\n",
    "\n",
    "inputs = [[1, 2], [2, 3], [3, 4], [4, 5], [5, 6], [10, 20], [20, 30], [30, 40], [40, 50], [50, 60]]\n",
    "outputs = [[0], [0], [0], [0], [0], [1], [1], [1], [1], [1]]\n",
    "regression.fit(inputs=inputs, outputs=outputs, regression_type='relative_risk')\n",
    "new_inputs = [[3, 4], [4, 5], [5, 6], [6, 7], [7, 8], [30, 40], [40, 50], [50, 60], [60, 70], [70, 80]]\n",
    "new_outputs = regression.predict(inputs=new_inputs)\n",
    "print(new_outputs)"
   ]
  },
  {
   "cell_type": "markdown",
   "metadata": {},
   "source": [
    "<p><b>Regressão de Média Móvel:</b> aplica um cálculo de <u>regressão não linear</u> com base na média dos dados da amostra.</p>"
   ]
  },
  {
   "cell_type": "code",
   "execution_count": 111,
   "metadata": {},
   "outputs": [
    {
     "name": "stdout",
     "output_type": "stream",
     "text": [
      "[[8.5, 9.5], [9.5, 10.5], [10.5, 11.5], [11.5, 12.5], [12.5, 13.5], [13.5, 14.5], [14.5, 15.5], [15.5, 16.5], [16.5, 17.5], [16.5, 17.5]]\n"
     ]
    }
   ],
   "source": [
    "from Neuraline.ArtificialIntelligence.MachineLearning.SupervisedLearning.regression import Regression\n",
    "regression = Regression()\n",
    "\n",
    "inputs = [[1, 2], [3, 4], [5, 6], [7, 8], [9, 10], [11, 12], [13, 14], [15, 16], [17, 18], [19, 20]]\n",
    "outputs = [[3, 4], [5, 6], [7, 8], [9, 10], [11, 12], [13, 14], [15, 16], [17, 18], [19, 20], [21, 22]]\n",
    "regression.fit(inputs=inputs, outputs=outputs, regression_type='moving_average')\n",
    "new_inputs = [[3, 4], [5, 6], [7, 8], [9, 10], [11, 12], [13, 14], [15, 16], [17, 18], [19, 20], [21, 22]]\n",
    "new_outputs = regression.predict(inputs=new_inputs)\n",
    "print(new_outputs)"
   ]
  },
  {
   "cell_type": "markdown",
   "metadata": {},
   "source": [
    "<p><b>VAR/Vetor Autorregressivo:</b> é um método econométrico regressivo não linear focado em regressões com múltiplas variáveis.</p>"
   ]
  },
  {
   "cell_type": "code",
   "execution_count": 112,
   "metadata": {},
   "outputs": [
    {
     "name": "stdout",
     "output_type": "stream",
     "text": [
      "[[3, 4], [5, 6], [7, 8], [9, 10], [11, 12], [13, 14], [15, 16], [17, 18], [19, 20], [21, 22]]\n"
     ]
    }
   ],
   "source": [
    "from Neuraline.ArtificialIntelligence.MachineLearning.SupervisedLearning.regression import Regression\n",
    "regression = Regression()\n",
    "\n",
    "inputs = [[1, 2], [3, 4], [5, 6], [7, 8], [9, 10], [11, 12], [13, 14], [15, 16], [17, 18], [19, 20]]\n",
    "outputs = [[3, 4], [5, 6], [7, 8], [9, 10], [11, 12], [13, 14], [15, 16], [17, 18], [19, 20], [21, 22]]\n",
    "regression.fit(inputs=inputs, outputs=outputs, regression_type='var')\n",
    "new_inputs = [[1, 2], [3, 4], [5, 6], [7, 8], [9, 10], [11, 12], [13, 14], [15, 16], [17, 18], [19, 20]]\n",
    "new_outputs = regression.predict(inputs=new_inputs)\n",
    "print(new_outputs)"
   ]
  },
  {
   "cell_type": "markdown",
   "metadata": {},
   "source": [
    "<p><b>VEC/Vetor Autorregressivo com Correção de Erro:</b> é uma adaptação do método var com correção de erro para diminuir as taxas de erro durante o processo preditivo.</p>"
   ]
  },
  {
   "cell_type": "code",
   "execution_count": 113,
   "metadata": {},
   "outputs": [
    {
     "name": "stdout",
     "output_type": "stream",
     "text": [
      "[[3, 4], [5, 6], [7, 8], [9, 10], [11, 12], [13, 14], [15, 16], [17, 18], [19, 20], [21, 22]]\n"
     ]
    }
   ],
   "source": [
    "from Neuraline.ArtificialIntelligence.MachineLearning.SupervisedLearning.regression import Regression\n",
    "regression = Regression()\n",
    "\n",
    "inputs = [[1, 2], [3, 4], [5, 6], [7, 8], [9, 10], [11, 12], [13, 14], [15, 16], [17, 18], [19, 20]]\n",
    "outputs = [[3, 4], [5, 6], [7, 8], [9, 10], [11, 12], [13, 14], [15, 16], [17, 18], [19, 20], [21, 22]]\n",
    "regression.fit(inputs=inputs, outputs=outputs, regression_type='vec')\n",
    "new_inputs = [[1, 2], [3, 4], [5, 6], [7, 8], [9, 10], [11, 12], [13, 14], [15, 16], [17, 18], [19, 20]]\n",
    "new_outputs = regression.predict(inputs=new_inputs)\n",
    "print(new_outputs)"
   ]
  },
  {
   "cell_type": "markdown",
   "metadata": {},
   "source": [
    "<p><b>VECM/Modelo Vetorial Autorregressivo com Correção de Erro:</b> é equivalente ao vetor autorregressivo com correção de erro.</p>"
   ]
  },
  {
   "cell_type": "code",
   "execution_count": 114,
   "metadata": {},
   "outputs": [
    {
     "name": "stdout",
     "output_type": "stream",
     "text": [
      "[[3, 4], [5, 6], [7, 8], [9, 10], [11, 12], [13, 14], [15, 16], [17, 18], [19, 20], [21, 22]]\n"
     ]
    }
   ],
   "source": [
    "from Neuraline.ArtificialIntelligence.MachineLearning.SupervisedLearning.regression import Regression\n",
    "regression = Regression()\n",
    "\n",
    "inputs = [[1, 2], [3, 4], [5, 6], [7, 8], [9, 10], [11, 12], [13, 14], [15, 16], [17, 18], [19, 20]]\n",
    "outputs = [[3, 4], [5, 6], [7, 8], [9, 10], [11, 12], [13, 14], [15, 16], [17, 18], [19, 20], [21, 22]]\n",
    "regression.fit(inputs=inputs, outputs=outputs, regression_type='vecm')\n",
    "new_inputs = [[1, 2], [3, 4], [5, 6], [7, 8], [9, 10], [11, 12], [13, 14], [15, 16], [17, 18], [19, 20]]\n",
    "new_outputs = regression.predict(inputs=new_inputs)\n",
    "print(new_outputs)"
   ]
  },
  {
   "cell_type": "markdown",
   "metadata": {},
   "source": [
    "<p><b>LSMC/Mínimos Quadrados de Monte Carlo:</b> aplica a aleatoriedade do método de monte carlo para aumentar a generalização dos resultados.</p>"
   ]
  },
  {
   "cell_type": "code",
   "execution_count": 115,
   "metadata": {},
   "outputs": [
    {
     "name": "stdout",
     "output_type": "stream",
     "text": [
      "[[2, 2], [2, 4], [4, 4], [4, 6], [6, 6], [6, 8], [8, 8], [8, 10], [10, 10], [10, 12]]\n"
     ]
    }
   ],
   "source": [
    "from Neuraline.ArtificialIntelligence.MachineLearning.SupervisedLearning.regression import Regression\n",
    "regression = Regression()\n",
    "\n",
    "inputs = [[1, 2], [2, 3], [3, 4], [4, 5], [5, 6], [6, 7], [7, 8], [8, 9], [9, 10], [10, 11]]\n",
    "outputs = [[2, 3], [3, 4], [4, 5], [5, 6], [6, 7], [7, 8], [8, 9], [9, 10], [10, 11], [11, 12]]\n",
    "regression.fit(inputs=inputs, outputs=outputs, regression_type='lsmc', only_integers=True)\n",
    "new_inputs = [[1, 2], [2, 3], [3, 4], [4, 5], [5, 6], [6, 7], [7, 8], [8, 9], [9, 10], [10, 11]]\n",
    "new_outputs = regression.predict(inputs=new_inputs)\n",
    "print(new_outputs)"
   ]
  },
  {
   "cell_type": "markdown",
   "metadata": {},
   "source": [
    "<p><b>Regressão Chinesa:</b> é um método chinês de <u>regressão não linear</u> baseado nas médias da distribuição que tem como foco a predição de séries temporais.</p>"
   ]
  },
  {
   "cell_type": "code",
   "execution_count": 116,
   "metadata": {},
   "outputs": [
    {
     "name": "stdout",
     "output_type": "stream",
     "text": [
      "[[8, 8], [8, 10], [10, 10], [10, 12], [12, 12], [12, 14], [14, 14], [14, 16], [16, 16], [16, 18]]\n"
     ]
    }
   ],
   "source": [
    "from Neuraline.ArtificialIntelligence.MachineLearning.SupervisedLearning.regression import Regression\n",
    "regression = Regression()\n",
    "\n",
    "inputs = [[1, 2], [3, 4], [5, 6], [7, 8], [9, 10], [11, 12], [13, 14], [15, 16], [17, 18], [19, 20]]\n",
    "outputs = [[3, 4], [5, 6], [7, 8], [9, 10], [11, 12], [13, 14], [15, 16], [17, 18], [19, 20], [21, 22]]\n",
    "regression.fit(inputs=inputs, outputs=outputs, regression_type='chinese_method', only_integers=True)\n",
    "new_inputs = [[1, 2], [3, 4], [5, 6], [7, 8], [9, 10], [11, 12], [13, 14], [15, 16], [17, 18], [19, 20]]\n",
    "new_outputs = regression.predict(inputs=new_inputs)\n",
    "print(new_outputs)"
   ]
  },
  {
   "cell_type": "markdown",
   "metadata": {},
   "source": [
    "<p><b>Regressão de Chebyshev/Polinômios de Chebyshev:</b> aplica um método regressivo baseado em duas sequências de polinômios relacionados às funções seno e cosseno.</p>"
   ]
  },
  {
   "cell_type": "code",
   "execution_count": 117,
   "metadata": {},
   "outputs": [
    {
     "name": "stdout",
     "output_type": "stream",
     "text": [
      "[[3, 4], [5, 6], [7, 8], [9, 10], [11, 12], [13, 14], [15, 16], [17, 18], [19, 20], [21, 22]]\n"
     ]
    }
   ],
   "source": [
    "from Neuraline.ArtificialIntelligence.MachineLearning.SupervisedLearning.regression import Regression\n",
    "regression = Regression()\n",
    "\n",
    "inputs = [[1, 2], [3, 4], [5, 6], [7, 8], [9, 10], [11, 12], [13, 14], [15, 16], [17, 18], [19, 20]]\n",
    "outputs = [[3, 4], [5, 6], [7, 8], [9, 10], [11, 12], [13, 14], [15, 16], [17, 18], [19, 20], [21, 22]]\n",
    "regression.fit(inputs=inputs, outputs=outputs, regression_type='chebyshev', only_integers=True)\n",
    "new_inputs = [[1, 2], [3, 4], [5, 6], [7, 8], [9, 10], [11, 12], [13, 14], [15, 16], [17, 18], [19, 20]]\n",
    "new_outputs = regression.predict(inputs=new_inputs)\n",
    "print(new_outputs)"
   ]
  },
  {
   "cell_type": "markdown",
   "metadata": {},
   "source": [
    "<p><b>Regressão de Números Inteiros:</b> retorna somente números inteiros para dados de contagem.</p>\n",
    "<p><b>count:</b> se definido como True retornará apenas números inteiros maiores ou iguais a zero.</p>"
   ]
  },
  {
   "cell_type": "code",
   "execution_count": 118,
   "metadata": {},
   "outputs": [
    {
     "name": "stdout",
     "output_type": "stream",
     "text": [
      "[[0], [0], [3], [7], [11], [15], [19], [23], [27], [31]]\n"
     ]
    }
   ],
   "source": [
    "from Neuraline.ArtificialIntelligence.MachineLearning.SupervisedLearning.regression import Regression\n",
    "regression = Regression()\n",
    "\n",
    "inputs = [[1, 2], [3, 4], [5, 6], [7, 8], [9, 10], [11, 12], [13, 14], [15, 16], [17, 18], [19, 20]]\n",
    "outputs = [[3], [7], [11], [15], [19], [23], [27], [31], [35], [39]]\n",
    "regression.fit(inputs=inputs, outputs=outputs, count=True)\n",
    "new_inputs = [[-1, -1], [0, 0], [1, 2], [3, 4], [5, 6], [7, 8], [9, 10], [11, 12], [13, 14], [15, 16]]\n",
    "new_outputs = regression.predict(inputs=new_inputs)\n",
    "print(new_outputs)"
   ]
  }
 ],
 "metadata": {
  "kernelspec": {
   "display_name": "Python 3.10.4 64-bit",
   "language": "python",
   "name": "python3"
  },
  "language_info": {
   "codemirror_mode": {
    "name": "ipython",
    "version": 3
   },
   "file_extension": ".py",
   "mimetype": "text/x-python",
   "name": "python",
   "nbconvert_exporter": "python",
   "pygments_lexer": "ipython3",
   "version": "3.10.4"
  },
  "orig_nbformat": 4,
  "vscode": {
   "interpreter": {
    "hash": "916dbcbb3f70747c44a77c7bcd40155683ae19c65e1c03b4aa3499c5328201f1"
   }
  }
 },
 "nbformat": 4,
 "nbformat_minor": 2
}
